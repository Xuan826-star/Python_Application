{
 "cells": [
  {
   "cell_type": "code",
   "execution_count": 1,
   "metadata": {},
   "outputs": [],
   "source": [
    "from database import MySQL"
   ]
  },
  {
   "cell_type": "code",
   "execution_count": 2,
   "metadata": {},
   "outputs": [
    {
     "name": "stdout",
     "output_type": "stream",
     "text": [
      "True\n",
      "{'connection': <pymysql.connections.Connection object at 0x0000016569F4EE50>, 'current_database': 'acg', 'cursor': <pymysql.cursors.Cursor object at 0x0000016568DEFFD0>}\n",
      "acg\n",
      "localInstance\n"
     ]
    }
   ],
   "source": [
    "server=MySQL(host='127.0.0.1',port=3306,user='root',password='Lucky@2019yx',database='acg')\n",
    "db_name='acg'\n",
    "server.selectdb(db_name)\n",
    "tb_name='timechart'\n",
    "keys=['weekday','title']\n",
    "data=[\"Monday\",\"至高之牌\"]\n",
    "isE=server.checkexists(tb_name,keys,data)\n",
    "print(isE)\n",
    "print(server.__dict__)\n",
    "print(server.current_database)\n",
    "print(server.__name__)"
   ]
  },
  {
   "cell_type": "code",
   "execution_count": 3,
   "metadata": {},
   "outputs": [
    {
     "data": {
      "text/plain": [
       "(('124.71.157.181', '10443', datetime.datetime(2023, 3, 11, 21, 12, 5), 0),\n",
       " ('139.64.135.45', '80', datetime.datetime(2023, 3, 11, 21, 4, 8), 0),\n",
       " ('149.129.184.250', '20201', datetime.datetime(2023, 3, 11, 21, 12, 38), 0),\n",
       " ('165.225.62.12', '80', datetime.datetime(2023, 3, 11, 21, 19, 33), 0),\n",
       " ('182.160.16.234', '80', datetime.datetime(2023, 3, 11, 21, 13, 8), 0),\n",
       " ('185.135.157.89', '8080', datetime.datetime(2023, 3, 11, 21, 15, 36), 0),\n",
       " ('211.136.100.154', '7302', datetime.datetime(2023, 3, 11, 21, 21, 52), 0),\n",
       " ('222.190.173.152', '8089', datetime.datetime(2023, 3, 7, 23, 4, 59), 0),\n",
       " ('47.109.46.223', '5678', datetime.datetime(2023, 3, 7, 23, 8, 7), 0),\n",
       " ('47.116.78.190', '7890', datetime.datetime(2023, 3, 7, 23, 7, 45), 0),\n",
       " ('59.59.163.115', '8089', datetime.datetime(2023, 3, 11, 21, 5, 13), 0),\n",
       " ('61.160.223.141', '7302', datetime.datetime(2023, 3, 11, 20, 57, 36), 0),\n",
       " ('8.209.253.237', '9002', datetime.datetime(2023, 3, 11, 21, 22, 42), 0),\n",
       " ('85.214.136.215', '80', datetime.datetime(2023, 3, 11, 21, 17, 20), 0))"
      ]
     },
     "execution_count": 3,
     "metadata": {},
     "output_type": "execute_result"
    }
   ],
   "source": [
    "showcmd='''\n",
    "        SELECT `ip`,`port`,`datetime`,`score` FROM ip;\n",
    "        '''\n",
    "server.selectdb('ip_pool')\n",
    "server.cursor.execute(showcmd)\n",
    "server.cursor.fetchall()"
   ]
  },
  {
   "cell_type": "code",
   "execution_count": 12,
   "metadata": {},
   "outputs": [
    {
     "data": {
      "text/plain": [
       "6"
      ]
     },
     "execution_count": 12,
     "metadata": {},
     "output_type": "execute_result"
    }
   ],
   "source": [
    "sql=\"select count(*) from sys_config;\"\n",
    "server.cursor.execute(sql)\n",
    "server.cursor.fetchone()[0]"
   ]
  },
  {
   "cell_type": "code",
   "execution_count": 9,
   "metadata": {},
   "outputs": [
    {
     "data": {
      "text/plain": [
       "()"
      ]
     },
     "execution_count": 9,
     "metadata": {},
     "output_type": "execute_result"
    }
   ],
   "source": [
    "server.cursor.fetchmany(10)"
   ]
  },
  {
   "cell_type": "code",
   "execution_count": 13,
   "metadata": {},
   "outputs": [
    {
     "name": "stdout",
     "output_type": "stream",
     "text": [
      "geoip2.models.City({'city': {'geoname_id': 4887398, 'names': {'de': 'Chicago', 'en': 'Chicago', 'es': 'Chicago', 'fr': 'Chicago', 'ja': 'シカゴ', 'pt-BR': 'Chicago', 'ru': 'Чикаго', 'zh-CN': '芝加哥'}}, 'continent': {'code': 'NA', 'geoname_id': 6255149, 'names': {'de': 'Nordamerika', 'en': 'North America', 'es': 'Norteamérica', 'fr': 'Amérique du Nord', 'ja': '北アメリカ', 'pt-BR': 'América do Norte', 'ru': 'Северная Америка', 'zh-CN': '北美洲'}}, 'country': {'geoname_id': 6252001, 'iso_code': 'US', 'names': {'de': 'Vereinigte Staaten', 'en': 'United States', 'es': 'Estados Unidos', 'fr': 'États Unis', 'ja': 'アメリカ', 'pt-BR': 'EUA', 'ru': 'США', 'zh-CN': '美国'}}, 'location': {'accuracy_radius': 500, 'latitude': 41.9209, 'longitude': -87.7043, 'metro_code': 602, 'time_zone': 'America/Chicago'}, 'postal': {'code': '60647'}, 'registered_country': {'geoname_id': 6252001, 'iso_code': 'US', 'names': {'de': 'Vereinigte Staaten', 'en': 'United States', 'es': 'Estados Unidos', 'fr': 'États Unis', 'ja': 'アメリカ', 'pt-BR': 'EUA', 'ru': 'США', 'zh-CN': '美国'}}, 'subdivisions': [{'geoname_id': 4896861, 'iso_code': 'IL', 'names': {'en': 'Illinois', 'es': 'Illinois', 'fr': 'Illinois', 'ja': 'イリノイ州', 'pt-BR': 'Ilinóis', 'ru': 'Иллинойс', 'zh-CN': '伊利诺伊州'}}], 'traits': {'ip_address': '165.225.62.12', 'prefix_len': 25}}, ['en'])\n",
      "IP Address:  165.225.62.12\n",
      "国家:  {'de': 'Vereinigte Staaten', 'en': 'United States', 'es': 'Estados Unidos', 'fr': 'États Unis', 'ja': 'アメリカ', 'pt-BR': 'EUA', 'ru': 'США', 'zh-CN': '美国'}\n",
      "省份:  {'en': 'Illinois', 'es': 'Illinois', 'fr': 'Illinois', 'ja': 'イリノイ州', 'pt-BR': 'Ilinóis', 'ru': 'Иллинойс', 'zh-CN': '伊利诺伊州'}\n",
      "城市:  {'de': 'Chicago', 'en': 'Chicago', 'es': 'Chicago', 'fr': 'Chicago', 'ja': 'シカゴ', 'pt-BR': 'Chicago', 'ru': 'Чикаго', 'zh-CN': '芝加哥'}\n",
      "纬度:  41.9209\n",
      "经度:  -87.7043\n",
      "时区： America/Chicago\n"
     ]
    }
   ],
   "source": [
    "import geoip2.database\n",
    "\n",
    "ip = '165.225.62.12'\n",
    "\n",
    "reader = geoip2.database.Reader('./GeoLite2-City.mmdb')\n",
    "data = reader.city(ip)\n",
    "\n",
    "print(data)\n",
    "print(\"IP Address: \", ip)\n",
    "print(\"国家: \", data.country.names)  # names['zh-CN']转换为中文\n",
    "print(\"省份: \", data.subdivisions.most_specific.names)\n",
    "print(\"城市: \", data.city.names)\n",
    "print(\"纬度: \", data.location.latitude)  # 位置\n",
    "print(\"经度: \", data.location.longitude)\n",
    "print(\"时区：\",data.location.time_zone)\n"
   ]
  },
  {
   "cell_type": "code",
   "execution_count": 17,
   "metadata": {},
   "outputs": [
    {
     "data": {
      "text/plain": [
       "{'a': 1, 'b': 2}"
      ]
     },
     "execution_count": 17,
     "metadata": {},
     "output_type": "execute_result"
    }
   ],
   "source": [
    "a={'a':1}\n",
    "b={'b':2}\n",
    "c={'c':3}\n",
    "a.update(b)\n",
    "a"
   ]
  }
 ],
 "metadata": {
  "kernelspec": {
   "display_name": "Python 3",
   "language": "python",
   "name": "python3"
  },
  "language_info": {
   "codemirror_mode": {
    "name": "ipython",
    "version": 3
   },
   "file_extension": ".py",
   "mimetype": "text/x-python",
   "name": "python",
   "nbconvert_exporter": "python",
   "pygments_lexer": "ipython3",
   "version": "3.9.6"
  },
  "orig_nbformat": 4,
  "vscode": {
   "interpreter": {
    "hash": "2469a70536e4d2335a2ea8907942d0699c37342a371ac185bdb5b0aa6f073890"
   }
  }
 },
 "nbformat": 4,
 "nbformat_minor": 2
}
